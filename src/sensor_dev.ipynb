{
 "cells": [
  {
   "cell_type": "markdown",
   "id": "22a8bf4f",
   "metadata": {},
   "source": [
    "# Tennis Ball Tracking with Pinhole Camera Model\n",
    "\n",
    "Pinhole camera model implementation for tennis ball trajectory tracking."
   ]
  },
  {
   "cell_type": "code",
   "execution_count": 1,
   "id": "b59093c9",
   "metadata": {},
   "outputs": [],
   "source": [
    "# Import libraries\n",
    "import numpy as np\n",
    "import matplotlib.pyplot as plt\n",
    "import plotly.graph_objects as go\n",
    "\n",
    "# Import simulation modules\n",
    "import system_model\n",
    "import scene"
   ]
  },
  {
   "cell_type": "code",
   "execution_count": 2,
   "id": "70cb0b35",
   "metadata": {},
   "outputs": [],
   "source": [
    "# Clean Pinhole Camera Implementation\n",
    "class PinholeCamera:\n",
    "    \"\"\"\n",
    "    Pinhole camera model with rotation for camera measurements.\n",
    "    \n",
    "    Coordinate System Convention:\n",
    "    - World coordinates: Standard XYZ with Z=height/up\n",
    "    - Camera coordinates: Camera-centered with camera looking along camera's -Z axis\n",
    "    - Points in front of camera have negative Z in camera coordinates\n",
    "    \n",
    "    The coordinate transform follows these steps:\n",
    "    1. Translate points from world coordinates to camera-centered coordinates\n",
    "    2. Apply rotation to align with camera's coordinate system\n",
    "    3. Project 3D points onto 2D image plane using perspective projection\n",
    "    \n",
    "    Key equations:\n",
    "    - P_cam = R × (P_world − C)\n",
    "    - u = f × (x_cam / −z_cam) + u₀\n",
    "    - v = f × (y_cam / −z_cam) + v₀\n",
    "    \n",
    "    Where:\n",
    "    - C: Camera center in world coordinates\n",
    "    - R: Rotation matrix from world to camera\n",
    "    - f: Focal length (in pixels)\n",
    "    - (u₀, v₀): Principal point (image center)\n",
    "    \"\"\"\n",
    "    \n",
    "    def __init__(self, position, rotation_angles, focal_length=800, image_size=(1280, 960)):\n",
    "        \"\"\"\n",
    "        Initialize a pinhole camera model.\n",
    "        \n",
    "        Args:\n",
    "            position (list): [x, y, z] camera center in world coordinates\n",
    "            rotation_angles (list): [roll, pitch, yaw] in radians\n",
    "                - roll: rotation around X-axis\n",
    "                - pitch: rotation around Y-axis (positive looks up, negative looks down)\n",
    "                - yaw: rotation around Z-axis (0 points along +Y, π/2 points along +X)\n",
    "            focal_length (float): Camera focal length in pixels\n",
    "                - Controls zoom/FOV (higher values = more zoom, narrower FOV)\n",
    "            image_size (tuple): (width, height) in pixels\n",
    "        \"\"\"\n",
    "        self.C = np.array(position).reshape(3, 1)  # Camera center\n",
    "        self.f = focal_length\n",
    "        self.image_size = image_size\n",
    "        self.u0, self.v0 = image_size[0]/2, image_size[1]/2  # Principal point\n",
    "        \n",
    "        # Build rotation matrix from Euler angles (ZYX convention)\n",
    "        roll, pitch, yaw = rotation_angles\n",
    "        \n",
    "        # Individual rotation matrices\n",
    "        Rx = np.array([  # Roll (around X)\n",
    "            [1, 0, 0],\n",
    "            [0, np.cos(roll), -np.sin(roll)],\n",
    "            [0, np.sin(roll), np.cos(roll)]\n",
    "        ])\n",
    "        \n",
    "        Ry = np.array([  # Pitch (around Y) \n",
    "            [np.cos(pitch), 0, np.sin(pitch)],\n",
    "            [0, 1, 0],\n",
    "            [-np.sin(pitch), 0, np.cos(pitch)]\n",
    "        ])\n",
    "        \n",
    "        Rz = np.array([  # Yaw (around Z)\n",
    "            [np.cos(yaw), -np.sin(yaw), 0],\n",
    "            [np.sin(yaw), np.cos(yaw), 0],\n",
    "            [0, 0, 1]\n",
    "        ])\n",
    "        \n",
    "        # Combined rotation matrix (ZYX order: first yaw, then pitch, then roll)\n",
    "        self.R = Rz @ Ry @ Rx\n",
    "    \n",
    "    def world_to_camera(self, world_coords):\n",
    "        \"\"\"\n",
    "        Transform point from world coordinates to camera coordinates.\n",
    "        \n",
    "        Args:\n",
    "            world_coords: [x, y, z] position in world coordinates\n",
    "            \n",
    "        Returns:\n",
    "            camera_coords: [x_cam, y_cam, z_cam] position in camera coordinates\n",
    "        \"\"\"\n",
    "        # Extract position coordinates if given state vector\n",
    "        if len(world_coords) > 3:\n",
    "            position = world_coords[:3]\n",
    "        else:\n",
    "            position = world_coords\n",
    "            \n",
    "        # Convert to column vector\n",
    "        p_world = np.array(position).reshape(3, 1)\n",
    "        \n",
    "        # Transform: p_cam = R(p_world - C)\n",
    "        p_cam = self.R @ (p_world - self.C)\n",
    "        \n",
    "        return p_cam\n",
    "    \n",
    "    def is_in_front(self, camera_coords):\n",
    "        \"\"\"Check if point is in front of camera (z_cam < 0)\"\"\"\n",
    "        return camera_coords[2, 0] < 0\n",
    "    \n",
    "    def is_in_frame(self, pixel_coords):\n",
    "        \"\"\"Check if pixel coordinates are within image bounds\"\"\"\n",
    "        u, v = pixel_coords\n",
    "        return (0 <= u < self.image_size[0] and 0 <= v < self.image_size[1])\n",
    "    \n",
    "    def project(self, camera_coords):\n",
    "        \"\"\"\n",
    "        Apply perspective projection to camera coordinates.\n",
    "        \n",
    "        Args:\n",
    "            camera_coords: 3D point in camera coordinates\n",
    "            \n",
    "        Returns:\n",
    "            pixel_coords: [u, v] pixel coordinates\n",
    "        \"\"\"\n",
    "        # Extract coordinates\n",
    "        x_cam = camera_coords[0, 0]\n",
    "        y_cam = camera_coords[1, 0]\n",
    "        z_cam = camera_coords[2, 0]\n",
    "        \n",
    "        # Perspective projection (note the negative z)\n",
    "        # Since camera looks along -Z, we use -z_cam in denominator\n",
    "        u = self.f * x_cam / (-z_cam) + self.u0\n",
    "        v = self.f * y_cam / (-z_cam) + self.v0\n",
    "        \n",
    "        return np.array([u, v])\n",
    "    \n",
    "    def g(self, world_coords):\n",
    "        \"\"\"\n",
    "        Measurement function: Maps 3D world coordinates to 2D pixel coordinates.\n",
    "        \n",
    "        Args:\n",
    "            world_coords: [x, y, z] position in world coordinates,\n",
    "                          or [x, y, z, vx, vy, vz] state vector\n",
    "            \n",
    "        Returns:\n",
    "            pixel_coords: [u, v] pixel coordinates\n",
    "            is_visible: bool, whether point is visible to camera\n",
    "        \"\"\"\n",
    "        # Transform to camera coordinates\n",
    "        p_cam = self.world_to_camera(world_coords)\n",
    "        \n",
    "        # Check if point is in front of camera\n",
    "        if not self.is_in_front(p_cam):\n",
    "            return np.array([0, 0]), False\n",
    "        \n",
    "        # Project to image plane\n",
    "        pixel = self.project(p_cam)\n",
    "        \n",
    "        # Check if projection is within image bounds\n",
    "        is_visible = self.is_in_frame(pixel)\n",
    "        \n",
    "        return pixel, is_visible\n",
    "    \n",
    "    def jacobian(self, world_coords):\n",
    "        \"\"\"\n",
    "        Calculate Jacobian of measurement function for EKF.\n",
    "        \n",
    "        Args:\n",
    "            world_coords: [x, y, z] position in world coordinates\n",
    "            \n",
    "        Returns:\n",
    "            H: 2x3 Jacobian matrix of measurement function\n",
    "            is_visible: bool, whether point is visible to camera\n",
    "        \"\"\"\n",
    "        # Transform to camera coordinates\n",
    "        p_cam = self.world_to_camera(world_coords)\n",
    "        \n",
    "        # Check if point is in front of camera\n",
    "        if not self.is_in_front(p_cam):\n",
    "            return None, False\n",
    "        \n",
    "        # Extract coordinates\n",
    "        x_cam = p_cam[0, 0]\n",
    "        y_cam = p_cam[1, 0]\n",
    "        z_cam = p_cam[2, 0]\n",
    "        \n",
    "        # Compute Jacobian for perspective projection\n",
    "        # ∂u/∂x_cam = f/(-z_cam)\n",
    "        # ∂u/∂y_cam = 0\n",
    "        # ∂u/∂z_cam = f*x_cam/z_cam²\n",
    "        # ∂v/∂x_cam = 0\n",
    "        # ∂v/∂y_cam = f/(-z_cam)\n",
    "        # ∂v/∂z_cam = f*y_cam/z_cam²\n",
    "        J_proj = np.array([\n",
    "            [self.f/(-z_cam), 0, self.f*x_cam/(z_cam*z_cam)],\n",
    "            [0, self.f/(-z_cam), self.f*y_cam/(z_cam*z_cam)]\n",
    "        ])\n",
    "        \n",
    "        # Jacobian of camera transform is just the rotation matrix\n",
    "        J_cam = self.R\n",
    "        \n",
    "        # Full Jacobian is composition: H = J_proj @ J_cam\n",
    "        H = J_proj @ J_cam\n",
    "        \n",
    "        # Check if projection is within image bounds\n",
    "        pixel = self.project(p_cam)\n",
    "        is_visible = self.is_in_frame(pixel)\n",
    "        \n",
    "        return H, is_visible"
   ]
  },
  {
   "cell_type": "code",
   "execution_count": 3,
   "id": "f6919b13",
   "metadata": {},
   "outputs": [
    {
     "name": "stdout",
     "output_type": "stream",
     "text": [
      "Trajectory: 28 points over 2.0 seconds\n",
      "Range: X=[0.0, 29.8]m, Z=[-0.0, 2.1]m\n",
      "Bounce 1 at: (19.0, 0.0, -0.0)\n",
      "Bounce 2 at: (29.8, 0.0, -0.0)\n",
      "Total trajectory segments: 3\n"
     ]
    }
   ],
   "source": [
    "# Tennis ball simulation setup - extended for full bounce trajectory\n",
    "x0 = np.array([0, 0, 1.0, 20.0, 0.0, 5.0])  # Initial state [x,y,z,vx,vy,vz]\n",
    "model = system_model.SystemModel(x0, 5, 0.1)\n",
    "# Default bounces=2 covers full trajectory\n",
    "t, x_full = model.run_sim()\n",
    "\n",
    "# Convert to numpy arrays and extract positions only\n",
    "import numpy as np\n",
    "\n",
    "t = np.asarray(t)\n",
    "x_full = np.asarray(x_full)\n",
    "x = x_full[:, :3]  # [x, y, z] positions only\n",
    "\n",
    "print(f\"Trajectory: {len(t)} points over {t[-1]:.1f} seconds\")\n",
    "print(f\"Range: X=[{x[:,0].min():.1f}, {x[:,0].max():.1f}]m, Z=[{x[:,2].min():.1f}, {x[:,2].max():.1f}]m\")\n",
    "\n",
    "if len(model.x_impact) > 0:\n",
    "    for idx, bounce in enumerate(model.x_impact, start=1):\n",
    "        pos = bounce[:3]\n",
    "        print(f\"Bounce {idx} at: ({pos[0]:.1f}, {pos[1]:.1f}, {pos[2]:.1f})\")\n",
    "    print(f\"Total trajectory segments: {len(model.x_impact) + 1}\")\n",
    "else:\n",
    "    print(\"No bounces detected\")"
   ]
  },
  {
   "cell_type": "code",
   "execution_count": 54,
   "id": "e9700ad2",
   "metadata": {},
   "outputs": [
    {
     "name": "stdout",
     "output_type": "stream",
     "text": [
      "Setting up cameras for trajectory coverage...\n",
      "\n",
      "Positioned 2 cameras:\n",
      "Camera 1: (14.9, -50.0, 4.0) m\n",
      "Camera 2: (14.9, 50.0, 4.0) m\n",
      "\n",
      "Camera field of view at 10m distance:\n",
      "  Width × Height: 12.8m × 9.6m\n",
      "  Horizontal FOV: 65.2°\n",
      "  Vertical FOV: 51.3°\n"
     ]
    }
   ],
   "source": [
    "# Set up cameras for trajectory coverage\n",
    "print(\"Setting up cameras for trajectory coverage...\")\n",
    "\n",
    "# Compute trajectory bounds for placement\n",
    "x_min, x_max = x[:, 0].min(), x[:, 0].max()\n",
    "y_min, y_max = x[:, 1].min(), x[:, 1].max()\n",
    "z_max = x[:, 2].max()\n",
    "\n",
    "# Calculate center of trajectory\n",
    "traj_center_x = (x_min + x_max) / 2\n",
    "traj_center_y = (y_min + y_max) / 2\n",
    "\n",
    "# TUNE THESE:\n",
    "# - Place cameras closer to the court (better visibility, less extreme perspective)\n",
    "# - Use moderate focal length (balance between FOV and detail)\n",
    "# - Adjust pitch angle to center the view on the trajectory\n",
    "camera_params = {\n",
    "    'distance': 50,  # Meters from court centerline\n",
    "    'elevation': 4,                # Meters above ground\n",
    "    'focal_length': 1000         # Pixels (higher = more zoom, narrower FOV)\n",
    "}\n",
    "\n",
    "# Camera 1: left side\n",
    "camera1 = PinholeCamera(\n",
    "    position=[traj_center_x, traj_center_y - camera_params['distance'], camera_params['elevation']],\n",
    "    rotation_angles=[-np.pi/2, 0, 0],  # Roll (x), pitch (y), yaw (z)\n",
    "    focal_length=camera_params['focal_length'],\n",
    "    image_size=(1280, 960)\n",
    ")\n",
    "\n",
    "# Camera 2: right side\n",
    "camera2 = PinholeCamera(\n",
    "    position=[traj_center_x, traj_center_y + camera_params['distance'], camera_params['elevation']],\n",
    "    rotation_angles=[np.pi/2, 0, 0],  # roll (x), pitch (y), yaw (z)\n",
    "    focal_length=camera_params['focal_length'],\n",
    "    image_size=(1280, 960)\n",
    ")\n",
    "\n",
    "cameras = [camera1, camera2]\n",
    "print(f\"\\nPositioned {len(cameras)} cameras:\")\n",
    "print(f\"Camera 1: ({camera1.C[0,0]:.1f}, {camera1.C[1,0]:.1f}, {camera1.C[2,0]:.1f}) m\")\n",
    "print(f\"Camera 2: ({camera2.C[0,0]:.1f}, {camera2.C[1,0]:.1f}, {camera2.C[2,0]:.1f}) m\")\n",
    "\n",
    "# Calculate expected field of view in real-world units\n",
    "def calculate_fov(camera):\n",
    "    \"\"\"Calculate approximate Field of View at a reference distance\"\"\"\n",
    "    distance = 10  # Reference distance in meters\n",
    "    width = 2 * distance * camera.image_size[0] / (2 * camera.f)\n",
    "    height = 2 * distance * camera.image_size[1] / (2 * camera.f)\n",
    "    \n",
    "    # Calculate approximate FOV angles\n",
    "    horiz_fov = 2 * np.arctan(width / (2 * distance))\n",
    "    vert_fov = 2 * np.arctan(height / (2 * distance))\n",
    "    \n",
    "    return {\n",
    "        'width': width, \n",
    "        'height': height,\n",
    "        'horiz_fov': np.degrees(horiz_fov),\n",
    "        'vert_fov': np.degrees(vert_fov)\n",
    "    }\n",
    "\n",
    "# Show FOV info for first camera (they're identical)\n",
    "fov = calculate_fov(cameras[0])\n",
    "print(f\"\\nCamera field of view at 10m distance:\")\n",
    "print(f\"  Width × Height: {fov['width']:.1f}m × {fov['height']:.1f}m\")\n",
    "print(f\"  Horizontal FOV: {fov['horiz_fov']:.1f}°\")\n",
    "print(f\"  Vertical FOV: {fov['vert_fov']:.1f}°\")"
   ]
  },
  {
   "cell_type": "code",
   "execution_count": 55,
   "id": "eca5082c",
   "metadata": {},
   "outputs": [
    {
     "name": "stdout",
     "output_type": "stream",
     "text": [
      "\n",
      "Analyzing trajectory coverage...\n",
      "Camera 1: 28/28 points visible (100.0%)\n",
      "Camera 2: 28/28 points visible (100.0%)\n",
      "\n",
      "Stereo coverage: 28/28 points visible to both cameras (100.0%)\n"
     ]
    }
   ],
   "source": [
    "# Generate measurements for trajectory\n",
    "measurements = []\n",
    "coverage_stats = []\n",
    "\n",
    "print(\"\\nAnalyzing trajectory coverage...\")\n",
    "\n",
    "for i, cam in enumerate(cameras):\n",
    "    cam_measurements = []\n",
    "    visible_count = 0\n",
    "    \n",
    "    # Process each point in trajectory\n",
    "    for j, point in enumerate(x):\n",
    "        # Get the 3D position only for camera measurement\n",
    "        world_coords = point[:3] if len(point) > 3 else point\n",
    "        pixel, visible = cam.g(world_coords)\n",
    "        cam_measurements.append(pixel)\n",
    "        if visible:\n",
    "            visible_count += 1\n",
    "    \n",
    "    # Store measurements and calculate stats\n",
    "    measurements.append(np.array(cam_measurements))\n",
    "    coverage = 100 * visible_count / len(x)\n",
    "    coverage_stats.append(coverage)\n",
    "    \n",
    "    # Print coverage report\n",
    "    print(f\"Camera {i+1}: {visible_count}/{len(x)} points visible ({coverage:.1f}%)\")\n",
    "\n",
    "# Check stereo coverage\n",
    "stereo_visible = 0\n",
    "for j in range(len(x)):\n",
    "    world_coords = x[j,:3] if x.shape[1] > 3 else x[j]\n",
    "    cam1_visible = cameras[0].g(world_coords)[1]\n",
    "    cam2_visible = cameras[1].g(world_coords)[1]\n",
    "    if cam1_visible and cam2_visible:\n",
    "        stereo_visible += 1\n",
    "\n",
    "stereo_coverage = 100 * stereo_visible / len(x)\n",
    "print(f\"\\nStereo coverage: {stereo_visible}/{len(x)} points visible to both cameras ({stereo_coverage:.1f}%)\")\n",
    "\n",
    "# Debug camera coverage issues if below threshold\n",
    "if min(coverage_stats) < 95:\n",
    "    print(\"\\nCoverage below 95%. Debugging camera setup...\")\n",
    "    # Check trajectory extremes (start, middle, end)\n",
    "    check_indices = [0, len(x)//2, -1]\n",
    "    for idx in check_indices:\n",
    "        point = x[idx]\n",
    "        world_coords = point[:3] if len(point) > 3 else point\n",
    "        print(f\"\\nPoint {idx}: Position ({world_coords[0]:.1f}, {world_coords[1]:.1f}, {world_coords[2]:.1f})\")\n",
    "        for cam_idx, cam in enumerate(cameras):\n",
    "            pixel, visible = cam.g(world_coords)\n",
    "            if visible:\n",
    "                print(f\"  Camera {cam_idx+1}: VISIBLE at pixel ({pixel[0]:.0f}, {pixel[1]:.0f})\")\n",
    "            else:\n",
    "                p_cam = cam.R @ (np.array(world_coords).reshape(3, 1) - cam.C)\n",
    "                reason = \"behind camera\" if p_cam[2, 0] >= 0 else \"outside frame\"\n",
    "                print(f\"  Camera {cam_idx+1}: NOT VISIBLE ({reason})\")"
   ]
  },
  {
   "cell_type": "code",
   "execution_count": 56,
   "id": "44bf3db7",
   "metadata": {},
   "outputs": [
    {
     "data": {
      "application/vnd.plotly.v1+json": {
       "config": {
        "plotlyServerURL": "https://plot.ly"
       },
       "data": [
        {
         "colorscale": [
          [
           0,
           "blue"
          ],
          [
           1,
           "blue"
          ]
         ],
         "name": "Court",
         "opacity": 0.5,
         "showscale": false,
         "type": "surface",
         "x": {
          "bdata": "AAAAAAAAAACF61G4HsU3QAAAAAAAAAAAhetRuB7FN0A=",
          "dtype": "f8",
          "shape": "2, 2"
         },
         "y": {
          "bdata": "9ihcj8J1EMD2KFyPwnUQwPYoXI/CdRBA9ihcj8J1EEA=",
          "dtype": "f8",
          "shape": "2, 2"
         },
         "z": {
          "bdata": "AAAAAAAAAAAAAAAAAAAAAAAAAAAAAAAAAAAAAAAAAAA=",
          "dtype": "f8",
          "shape": "2, 2"
         }
        },
        {
         "line": {
          "width": 4
         },
         "marker": {
          "color": "yellowgreen",
          "size": 3
         },
         "mode": "lines+markers",
         "name": "Ball",
         "type": "scatter3d",
         "x": {
          "bdata": "AAAAAAAAAABGnsGymV1cP+eOgv+Af5M/LdMdxHSNyD+QpsLnXzb+P48Ls4RuPw5Azvco9cptFkC7kRCW1nwdQEs4SsqWKCJADhpEiUV3JUD4sBv6EqwoQLHr4wthyCtAsZoYrV/NLkCQgwi5Cd4wQGUId8WtSjJAeJp/7DQIM0B4mn/sNAgzQNOyyf4WCzNAu9V7m+InM0B+h2eOXEQ0QCDe1tlSmTVAftP22rrlNkCLyJA5FSo4QE5SkFnNZjlAA+1YejucOkCsDGG8pso7QEKUYxxH8jxAEdauo7zUPUA=",
          "dtype": "f8"
         },
         "y": {
          "bdata": "AAAAAAAAAAAAAAAAAAAAAAAAAAAAAAAAAAAAAAAAAAAAAAAAAAAAAAAAAAAAAAAAAAAAAAAAAAAAAAAAAAAAAAAAAAAAAAAAAAAAAAAAAAAAAAAAAAAAAAAAAAAAAAAAAAAAAAAAAAAAAAAAAAAAAAAAAAAAAAAAAAAAAAAAAAAAAAAAAAAAAAAAAAAAAAAAAAAAAAAAAAAAAAAAAAAAAAAAAAAAAAAAAAAAAAAAAAAAAAAAAAAAAAAAAAAAAAAAAAAAAAAAAAAAAAAAAAAAAAAAAAAAAAAAAAAAAAAAAAA=",
          "dtype": "f8"
         },
         "z": {
          "bdata": "AAAAAAAA8D+OSb3PxQHwP8n4Qdd6E/A/0ja4XJHC8D9sHNRxBNb2P0SvP6oSLfw/AnAa/07J/z8kd1nrpd0AQGYgUBjjCAFArYzzIwBtAEC39NYQDyD+PzySl8cc7/k/xuwlFKJR9D9OTciXLaPqP84DYBxs4tM/AAAAAAAAkLz8qfHSTWJQP+4h8sYF2XI/1XQngvmWpD+ZwkVBINHWPxaaGOjkueQ/Xh9kF7u16j/eu7ZKfXLtP3aLjVmIBO0/96s9BLJ+6T9fD+hfwvLiP7UfMR6/49I/AAAAAAAAwrw=",
          "dtype": "f8"
         }
        },
        {
         "marker": {
          "color": "orange",
          "size": 10,
          "symbol": "x"
         },
         "mode": "markers",
         "name": "Bounce 1",
         "showlegend": true,
         "type": "scatter3d",
         "x": [
          19.032057553437397
         ],
         "y": [
          0
         ],
         "z": [
          -5.551115123125783e-17
         ]
        },
        {
         "marker": {
          "color": "orange",
          "size": 10,
          "symbol": "x"
         },
         "mode": "markers",
         "name": "Bounce 2",
         "showlegend": true,
         "type": "scatter3d",
         "x": [
          29.831003408608073
         ],
         "y": [
          0
         ],
         "z": [
          -4.996003610813204e-16
         ]
        },
        {
         "marker": {
          "color": "red",
          "size": 12,
          "symbol": "diamond"
         },
         "mode": "markers",
         "showlegend": false,
         "type": "scatter3d",
         "x": [
          14.915501704304036
         ],
         "y": [
          -50
         ],
         "z": [
          4
         ]
        },
        {
         "line": {
          "color": "red",
          "dash": "dot",
          "width": 2
         },
         "mode": "lines",
         "showlegend": false,
         "type": "scatter3d",
         "x": [
          11.715501704304035,
          2.1155017043040356
         ],
         "y": [
          -45,
          -30
         ],
         "z": [
          1.5999999999999996,
          -5.600000000000001
         ]
        },
        {
         "line": {
          "color": "red",
          "width": 2
         },
         "mode": "lines",
         "showlegend": false,
         "type": "scatter3d",
         "x": [
          14.915501704304036,
          11.715501704304035
         ],
         "y": [
          -50,
          -45
         ],
         "z": [
          4,
          1.5999999999999996
         ]
        },
        {
         "line": {
          "color": "red",
          "dash": "dot",
          "width": 2
         },
         "mode": "lines",
         "showlegend": false,
         "type": "scatter3d",
         "x": [
          18.115501704304037,
          27.71550170430404
         ],
         "y": [
          -45,
          -30
         ],
         "z": [
          1.5999999999999996,
          -5.600000000000001
         ]
        },
        {
         "line": {
          "color": "red",
          "width": 2
         },
         "mode": "lines",
         "showlegend": false,
         "type": "scatter3d",
         "x": [
          14.915501704304036,
          18.115501704304037
         ],
         "y": [
          -50,
          -45
         ],
         "z": [
          4,
          1.5999999999999996
         ]
        },
        {
         "line": {
          "color": "red",
          "dash": "dot",
          "width": 2
         },
         "mode": "lines",
         "showlegend": false,
         "type": "scatter3d",
         "x": [
          18.115501704304037,
          27.71550170430404
         ],
         "y": [
          -45,
          -30
         ],
         "z": [
          6.3999999999999995,
          13.599999999999998
         ]
        },
        {
         "line": {
          "color": "red",
          "width": 2
         },
         "mode": "lines",
         "showlegend": false,
         "type": "scatter3d",
         "x": [
          14.915501704304036,
          18.115501704304037
         ],
         "y": [
          -50,
          -45
         ],
         "z": [
          4,
          6.3999999999999995
         ]
        },
        {
         "line": {
          "color": "red",
          "dash": "dot",
          "width": 2
         },
         "mode": "lines",
         "showlegend": false,
         "type": "scatter3d",
         "x": [
          11.715501704304035,
          2.1155017043040356
         ],
         "y": [
          -45,
          -30
         ],
         "z": [
          6.3999999999999995,
          13.599999999999998
         ]
        },
        {
         "line": {
          "color": "red",
          "width": 2
         },
         "mode": "lines",
         "showlegend": false,
         "type": "scatter3d",
         "x": [
          14.915501704304036,
          11.715501704304035
         ],
         "y": [
          -50,
          -45
         ],
         "z": [
          4,
          6.3999999999999995
         ]
        },
        {
         "line": {
          "color": "red",
          "width": 2
         },
         "mode": "lines",
         "showlegend": false,
         "type": "scatter3d",
         "x": {
          "bdata": "qm9IPVZuJ0A8ngqFkR0yQDyeCoWRHTJAqm9IPVZuJ0Cqb0g9Vm4nQA==",
          "dtype": "f8"
         },
         "y": {
          "bdata": "AAAAAACARsAAAAAAAIBGwAAAAAAAgEbAAAAAAACARsAAAAAAAIBGwA==",
          "dtype": "f8"
         },
         "z": {
          "bdata": "mJmZmZmZ+T+YmZmZmZn5P5mZmZmZmRlAmZmZmZmZGUCYmZmZmZn5Pw==",
          "dtype": "f8"
         }
        },
        {
         "line": {
          "color": "red",
          "width": 2
         },
         "mode": "lines",
         "showlegend": false,
         "type": "scatter3d",
         "x": {
          "bdata": "3PFUKIzsAEDWN6QeK7c7QNY3pB4rtztA3PFUKIzsAEDc8VQojOwAQA==",
          "dtype": "f8"
         },
         "y": {
          "bdata": "AAAAAAAAPsAAAAAAAAA+wAAAAAAAAD7AAAAAAAAAPsAAAAAAAAA+wA==",
          "dtype": "f8"
         },
         "z": {
          "bdata": "aGZmZmZmFsBoZmZmZmYWwDIzMzMzMytAMjMzMzMzK0BoZmZmZmYWwA==",
          "dtype": "f8"
         }
        },
        {
         "line": {
          "color": "red",
          "width": 4
         },
         "mode": "lines",
         "name": "Camera 1 view direction",
         "showlegend": true,
         "type": "scatter3d",
         "x": [
          14.915501704304036,
          14.915501704304036
         ],
         "y": [
          -50,
          -37.5
         ],
         "z": [
          4,
          3.999999999999999
         ]
        },
        {
         "marker": {
          "color": "blue",
          "size": 12,
          "symbol": "diamond"
         },
         "mode": "markers",
         "showlegend": false,
         "type": "scatter3d",
         "x": [
          14.915501704304036
         ],
         "y": [
          50
         ],
         "z": [
          4
         ]
        },
        {
         "line": {
          "color": "blue",
          "dash": "dot",
          "width": 2
         },
         "mode": "lines",
         "showlegend": false,
         "type": "scatter3d",
         "x": [
          11.715501704304035,
          2.1155017043040356
         ],
         "y": [
          45,
          30
         ],
         "z": [
          6.3999999999999995,
          13.599999999999998
         ]
        },
        {
         "line": {
          "color": "blue",
          "width": 2
         },
         "mode": "lines",
         "showlegend": false,
         "type": "scatter3d",
         "x": [
          14.915501704304036,
          11.715501704304035
         ],
         "y": [
          50,
          45
         ],
         "z": [
          4,
          6.3999999999999995
         ]
        },
        {
         "line": {
          "color": "blue",
          "dash": "dot",
          "width": 2
         },
         "mode": "lines",
         "showlegend": false,
         "type": "scatter3d",
         "x": [
          18.115501704304037,
          27.71550170430404
         ],
         "y": [
          45,
          30
         ],
         "z": [
          6.3999999999999995,
          13.599999999999998
         ]
        },
        {
         "line": {
          "color": "blue",
          "width": 2
         },
         "mode": "lines",
         "showlegend": false,
         "type": "scatter3d",
         "x": [
          14.915501704304036,
          18.115501704304037
         ],
         "y": [
          50,
          45
         ],
         "z": [
          4,
          6.3999999999999995
         ]
        },
        {
         "line": {
          "color": "blue",
          "dash": "dot",
          "width": 2
         },
         "mode": "lines",
         "showlegend": false,
         "type": "scatter3d",
         "x": [
          18.115501704304037,
          27.71550170430404
         ],
         "y": [
          45,
          30
         ],
         "z": [
          1.5999999999999996,
          -5.600000000000001
         ]
        },
        {
         "line": {
          "color": "blue",
          "width": 2
         },
         "mode": "lines",
         "showlegend": false,
         "type": "scatter3d",
         "x": [
          14.915501704304036,
          18.115501704304037
         ],
         "y": [
          50,
          45
         ],
         "z": [
          4,
          1.5999999999999996
         ]
        },
        {
         "line": {
          "color": "blue",
          "dash": "dot",
          "width": 2
         },
         "mode": "lines",
         "showlegend": false,
         "type": "scatter3d",
         "x": [
          11.715501704304035,
          2.1155017043040356
         ],
         "y": [
          45,
          30
         ],
         "z": [
          1.5999999999999996,
          -5.600000000000001
         ]
        },
        {
         "line": {
          "color": "blue",
          "width": 2
         },
         "mode": "lines",
         "showlegend": false,
         "type": "scatter3d",
         "x": [
          14.915501704304036,
          11.715501704304035
         ],
         "y": [
          50,
          45
         ],
         "z": [
          4,
          1.5999999999999996
         ]
        },
        {
         "line": {
          "color": "blue",
          "width": 2
         },
         "mode": "lines",
         "showlegend": false,
         "type": "scatter3d",
         "x": {
          "bdata": "qm9IPVZuJ0A8ngqFkR0yQDyeCoWRHTJAqm9IPVZuJ0Cqb0g9Vm4nQA==",
          "dtype": "f8"
         },
         "y": {
          "bdata": "AAAAAACARkAAAAAAAIBGQAAAAAAAgEZAAAAAAACARkAAAAAAAIBGQA==",
          "dtype": "f8"
         },
         "z": {
          "bdata": "mZmZmZmZGUCZmZmZmZkZQJiZmZmZmfk/mJmZmZmZ+T+ZmZmZmZkZQA==",
          "dtype": "f8"
         }
        },
        {
         "line": {
          "color": "blue",
          "width": 2
         },
         "mode": "lines",
         "showlegend": false,
         "type": "scatter3d",
         "x": {
          "bdata": "3PFUKIzsAEDWN6QeK7c7QNY3pB4rtztA3PFUKIzsAEDc8VQojOwAQA==",
          "dtype": "f8"
         },
         "y": {
          "bdata": "AAAAAAAAPkAAAAAAAAA+QAAAAAAAAD5AAAAAAAAAPkAAAAAAAAA+QA==",
          "dtype": "f8"
         },
         "z": {
          "bdata": "MjMzMzMzK0AyMzMzMzMrQGhmZmZmZhbAaGZmZmZmFsAyMzMzMzMrQA==",
          "dtype": "f8"
         }
        },
        {
         "line": {
          "color": "blue",
          "width": 4
         },
         "mode": "lines",
         "name": "Camera 2 view direction",
         "showlegend": true,
         "type": "scatter3d",
         "x": [
          14.915501704304036,
          14.915501704304036
         ],
         "y": [
          50,
          37.5
         ],
         "z": [
          4,
          3.999999999999999
         ]
        }
       ],
       "layout": {
        "margin": {
         "b": 0,
         "l": 0,
         "r": 0,
         "t": 30
        },
        "scene": {
         "aspectmode": "manual",
         "aspectratio": {
          "x": 2,
          "y": 1,
          "z": 0.5
         },
         "xaxis": {
          "title": {
           "text": "X (court length, m)"
          }
         },
         "yaxis": {
          "title": {
           "text": "Y (court width, m)"
          }
         },
         "zaxis": {
          "title": {
           "text": "Z (height, m)"
          }
         }
        },
        "template": {
         "data": {
          "bar": [
           {
            "error_x": {
             "color": "#2a3f5f"
            },
            "error_y": {
             "color": "#2a3f5f"
            },
            "marker": {
             "line": {
              "color": "#E5ECF6",
              "width": 0.5
             },
             "pattern": {
              "fillmode": "overlay",
              "size": 10,
              "solidity": 0.2
             }
            },
            "type": "bar"
           }
          ],
          "barpolar": [
           {
            "marker": {
             "line": {
              "color": "#E5ECF6",
              "width": 0.5
             },
             "pattern": {
              "fillmode": "overlay",
              "size": 10,
              "solidity": 0.2
             }
            },
            "type": "barpolar"
           }
          ],
          "carpet": [
           {
            "aaxis": {
             "endlinecolor": "#2a3f5f",
             "gridcolor": "white",
             "linecolor": "white",
             "minorgridcolor": "white",
             "startlinecolor": "#2a3f5f"
            },
            "baxis": {
             "endlinecolor": "#2a3f5f",
             "gridcolor": "white",
             "linecolor": "white",
             "minorgridcolor": "white",
             "startlinecolor": "#2a3f5f"
            },
            "type": "carpet"
           }
          ],
          "choropleth": [
           {
            "colorbar": {
             "outlinewidth": 0,
             "ticks": ""
            },
            "type": "choropleth"
           }
          ],
          "contour": [
           {
            "colorbar": {
             "outlinewidth": 0,
             "ticks": ""
            },
            "colorscale": [
             [
              0,
              "#0d0887"
             ],
             [
              0.1111111111111111,
              "#46039f"
             ],
             [
              0.2222222222222222,
              "#7201a8"
             ],
             [
              0.3333333333333333,
              "#9c179e"
             ],
             [
              0.4444444444444444,
              "#bd3786"
             ],
             [
              0.5555555555555556,
              "#d8576b"
             ],
             [
              0.6666666666666666,
              "#ed7953"
             ],
             [
              0.7777777777777778,
              "#fb9f3a"
             ],
             [
              0.8888888888888888,
              "#fdca26"
             ],
             [
              1,
              "#f0f921"
             ]
            ],
            "type": "contour"
           }
          ],
          "contourcarpet": [
           {
            "colorbar": {
             "outlinewidth": 0,
             "ticks": ""
            },
            "type": "contourcarpet"
           }
          ],
          "heatmap": [
           {
            "colorbar": {
             "outlinewidth": 0,
             "ticks": ""
            },
            "colorscale": [
             [
              0,
              "#0d0887"
             ],
             [
              0.1111111111111111,
              "#46039f"
             ],
             [
              0.2222222222222222,
              "#7201a8"
             ],
             [
              0.3333333333333333,
              "#9c179e"
             ],
             [
              0.4444444444444444,
              "#bd3786"
             ],
             [
              0.5555555555555556,
              "#d8576b"
             ],
             [
              0.6666666666666666,
              "#ed7953"
             ],
             [
              0.7777777777777778,
              "#fb9f3a"
             ],
             [
              0.8888888888888888,
              "#fdca26"
             ],
             [
              1,
              "#f0f921"
             ]
            ],
            "type": "heatmap"
           }
          ],
          "histogram": [
           {
            "marker": {
             "pattern": {
              "fillmode": "overlay",
              "size": 10,
              "solidity": 0.2
             }
            },
            "type": "histogram"
           }
          ],
          "histogram2d": [
           {
            "colorbar": {
             "outlinewidth": 0,
             "ticks": ""
            },
            "colorscale": [
             [
              0,
              "#0d0887"
             ],
             [
              0.1111111111111111,
              "#46039f"
             ],
             [
              0.2222222222222222,
              "#7201a8"
             ],
             [
              0.3333333333333333,
              "#9c179e"
             ],
             [
              0.4444444444444444,
              "#bd3786"
             ],
             [
              0.5555555555555556,
              "#d8576b"
             ],
             [
              0.6666666666666666,
              "#ed7953"
             ],
             [
              0.7777777777777778,
              "#fb9f3a"
             ],
             [
              0.8888888888888888,
              "#fdca26"
             ],
             [
              1,
              "#f0f921"
             ]
            ],
            "type": "histogram2d"
           }
          ],
          "histogram2dcontour": [
           {
            "colorbar": {
             "outlinewidth": 0,
             "ticks": ""
            },
            "colorscale": [
             [
              0,
              "#0d0887"
             ],
             [
              0.1111111111111111,
              "#46039f"
             ],
             [
              0.2222222222222222,
              "#7201a8"
             ],
             [
              0.3333333333333333,
              "#9c179e"
             ],
             [
              0.4444444444444444,
              "#bd3786"
             ],
             [
              0.5555555555555556,
              "#d8576b"
             ],
             [
              0.6666666666666666,
              "#ed7953"
             ],
             [
              0.7777777777777778,
              "#fb9f3a"
             ],
             [
              0.8888888888888888,
              "#fdca26"
             ],
             [
              1,
              "#f0f921"
             ]
            ],
            "type": "histogram2dcontour"
           }
          ],
          "mesh3d": [
           {
            "colorbar": {
             "outlinewidth": 0,
             "ticks": ""
            },
            "type": "mesh3d"
           }
          ],
          "parcoords": [
           {
            "line": {
             "colorbar": {
              "outlinewidth": 0,
              "ticks": ""
             }
            },
            "type": "parcoords"
           }
          ],
          "pie": [
           {
            "automargin": true,
            "type": "pie"
           }
          ],
          "scatter": [
           {
            "fillpattern": {
             "fillmode": "overlay",
             "size": 10,
             "solidity": 0.2
            },
            "type": "scatter"
           }
          ],
          "scatter3d": [
           {
            "line": {
             "colorbar": {
              "outlinewidth": 0,
              "ticks": ""
             }
            },
            "marker": {
             "colorbar": {
              "outlinewidth": 0,
              "ticks": ""
             }
            },
            "type": "scatter3d"
           }
          ],
          "scattercarpet": [
           {
            "marker": {
             "colorbar": {
              "outlinewidth": 0,
              "ticks": ""
             }
            },
            "type": "scattercarpet"
           }
          ],
          "scattergeo": [
           {
            "marker": {
             "colorbar": {
              "outlinewidth": 0,
              "ticks": ""
             }
            },
            "type": "scattergeo"
           }
          ],
          "scattergl": [
           {
            "marker": {
             "colorbar": {
              "outlinewidth": 0,
              "ticks": ""
             }
            },
            "type": "scattergl"
           }
          ],
          "scattermap": [
           {
            "marker": {
             "colorbar": {
              "outlinewidth": 0,
              "ticks": ""
             }
            },
            "type": "scattermap"
           }
          ],
          "scattermapbox": [
           {
            "marker": {
             "colorbar": {
              "outlinewidth": 0,
              "ticks": ""
             }
            },
            "type": "scattermapbox"
           }
          ],
          "scatterpolar": [
           {
            "marker": {
             "colorbar": {
              "outlinewidth": 0,
              "ticks": ""
             }
            },
            "type": "scatterpolar"
           }
          ],
          "scatterpolargl": [
           {
            "marker": {
             "colorbar": {
              "outlinewidth": 0,
              "ticks": ""
             }
            },
            "type": "scatterpolargl"
           }
          ],
          "scatterternary": [
           {
            "marker": {
             "colorbar": {
              "outlinewidth": 0,
              "ticks": ""
             }
            },
            "type": "scatterternary"
           }
          ],
          "surface": [
           {
            "colorbar": {
             "outlinewidth": 0,
             "ticks": ""
            },
            "colorscale": [
             [
              0,
              "#0d0887"
             ],
             [
              0.1111111111111111,
              "#46039f"
             ],
             [
              0.2222222222222222,
              "#7201a8"
             ],
             [
              0.3333333333333333,
              "#9c179e"
             ],
             [
              0.4444444444444444,
              "#bd3786"
             ],
             [
              0.5555555555555556,
              "#d8576b"
             ],
             [
              0.6666666666666666,
              "#ed7953"
             ],
             [
              0.7777777777777778,
              "#fb9f3a"
             ],
             [
              0.8888888888888888,
              "#fdca26"
             ],
             [
              1,
              "#f0f921"
             ]
            ],
            "type": "surface"
           }
          ],
          "table": [
           {
            "cells": {
             "fill": {
              "color": "#EBF0F8"
             },
             "line": {
              "color": "white"
             }
            },
            "header": {
             "fill": {
              "color": "#C8D4E3"
             },
             "line": {
              "color": "white"
             }
            },
            "type": "table"
           }
          ]
         },
         "layout": {
          "annotationdefaults": {
           "arrowcolor": "#2a3f5f",
           "arrowhead": 0,
           "arrowwidth": 1
          },
          "autotypenumbers": "strict",
          "coloraxis": {
           "colorbar": {
            "outlinewidth": 0,
            "ticks": ""
           }
          },
          "colorscale": {
           "diverging": [
            [
             0,
             "#8e0152"
            ],
            [
             0.1,
             "#c51b7d"
            ],
            [
             0.2,
             "#de77ae"
            ],
            [
             0.3,
             "#f1b6da"
            ],
            [
             0.4,
             "#fde0ef"
            ],
            [
             0.5,
             "#f7f7f7"
            ],
            [
             0.6,
             "#e6f5d0"
            ],
            [
             0.7,
             "#b8e186"
            ],
            [
             0.8,
             "#7fbc41"
            ],
            [
             0.9,
             "#4d9221"
            ],
            [
             1,
             "#276419"
            ]
           ],
           "sequential": [
            [
             0,
             "#0d0887"
            ],
            [
             0.1111111111111111,
             "#46039f"
            ],
            [
             0.2222222222222222,
             "#7201a8"
            ],
            [
             0.3333333333333333,
             "#9c179e"
            ],
            [
             0.4444444444444444,
             "#bd3786"
            ],
            [
             0.5555555555555556,
             "#d8576b"
            ],
            [
             0.6666666666666666,
             "#ed7953"
            ],
            [
             0.7777777777777778,
             "#fb9f3a"
            ],
            [
             0.8888888888888888,
             "#fdca26"
            ],
            [
             1,
             "#f0f921"
            ]
           ],
           "sequentialminus": [
            [
             0,
             "#0d0887"
            ],
            [
             0.1111111111111111,
             "#46039f"
            ],
            [
             0.2222222222222222,
             "#7201a8"
            ],
            [
             0.3333333333333333,
             "#9c179e"
            ],
            [
             0.4444444444444444,
             "#bd3786"
            ],
            [
             0.5555555555555556,
             "#d8576b"
            ],
            [
             0.6666666666666666,
             "#ed7953"
            ],
            [
             0.7777777777777778,
             "#fb9f3a"
            ],
            [
             0.8888888888888888,
             "#fdca26"
            ],
            [
             1,
             "#f0f921"
            ]
           ]
          },
          "colorway": [
           "#636efa",
           "#EF553B",
           "#00cc96",
           "#ab63fa",
           "#FFA15A",
           "#19d3f3",
           "#FF6692",
           "#B6E880",
           "#FF97FF",
           "#FECB52"
          ],
          "font": {
           "color": "#2a3f5f"
          },
          "geo": {
           "bgcolor": "white",
           "lakecolor": "white",
           "landcolor": "#E5ECF6",
           "showlakes": true,
           "showland": true,
           "subunitcolor": "white"
          },
          "hoverlabel": {
           "align": "left"
          },
          "hovermode": "closest",
          "mapbox": {
           "style": "light"
          },
          "paper_bgcolor": "white",
          "plot_bgcolor": "#E5ECF6",
          "polar": {
           "angularaxis": {
            "gridcolor": "white",
            "linecolor": "white",
            "ticks": ""
           },
           "bgcolor": "#E5ECF6",
           "radialaxis": {
            "gridcolor": "white",
            "linecolor": "white",
            "ticks": ""
           }
          },
          "scene": {
           "xaxis": {
            "backgroundcolor": "#E5ECF6",
            "gridcolor": "white",
            "gridwidth": 2,
            "linecolor": "white",
            "showbackground": true,
            "ticks": "",
            "zerolinecolor": "white"
           },
           "yaxis": {
            "backgroundcolor": "#E5ECF6",
            "gridcolor": "white",
            "gridwidth": 2,
            "linecolor": "white",
            "showbackground": true,
            "ticks": "",
            "zerolinecolor": "white"
           },
           "zaxis": {
            "backgroundcolor": "#E5ECF6",
            "gridcolor": "white",
            "gridwidth": 2,
            "linecolor": "white",
            "showbackground": true,
            "ticks": "",
            "zerolinecolor": "white"
           }
          },
          "shapedefaults": {
           "line": {
            "color": "#2a3f5f"
           }
          },
          "ternary": {
           "aaxis": {
            "gridcolor": "white",
            "linecolor": "white",
            "ticks": ""
           },
           "baxis": {
            "gridcolor": "white",
            "linecolor": "white",
            "ticks": ""
           },
           "bgcolor": "#E5ECF6",
           "caxis": {
            "gridcolor": "white",
            "linecolor": "white",
            "ticks": ""
           }
          },
          "title": {
           "x": 0.05
          },
          "xaxis": {
           "automargin": true,
           "gridcolor": "white",
           "linecolor": "white",
           "ticks": "",
           "title": {
            "standoff": 15
           },
           "zerolinecolor": "white",
           "zerolinewidth": 2
          },
          "yaxis": {
           "automargin": true,
           "gridcolor": "white",
           "linecolor": "white",
           "ticks": "",
           "title": {
            "standoff": 15
           },
           "zerolinecolor": "white",
           "zerolinewidth": 2
          }
         }
        },
        "title": {
         "text": "Tennis Ball Tracking: Camera Setup with View Frustum"
        }
       }
      }
     },
     "metadata": {},
     "output_type": "display_data"
    }
   ],
   "source": [
    "import numpy as np\n",
    "import plotly.graph_objects as go\n",
    "\n",
    "# 3D visualization of cameras and trajectory with proper view frustum\n",
    "fig = go.Figure()\n",
    "\n",
    "# Draw tennis court and ball trajectory\n",
    "scene.draw_court(fig)\n",
    "scene.plot_ball_trajectory(fig, x)  # assumes this names its trace “Ball” or similar\n",
    "\n",
    "# Add bounce points\n",
    "for i, bounce in enumerate(model.x_impact):\n",
    "    fig.add_trace(go.Scatter3d(\n",
    "        x=[bounce[0]],\n",
    "        y=[bounce[1]],\n",
    "        z=[bounce[2]],\n",
    "        mode='markers',\n",
    "        marker=dict(size=10, color='orange', symbol='x'),\n",
    "        name=f'Bounce {i+1}',\n",
    "        showlegend=True\n",
    "    ))\n",
    "\n",
    "def draw_camera_frustum(fig, cam, color, cam_name, near_plane=5, far_plane=25):\n",
    "    pos = cam.C.flatten()\n",
    "    R_inv = cam.R.T\n",
    "\n",
    "    # camera center (no legend)\n",
    "    fig.add_trace(go.Scatter3d(\n",
    "        x=[pos[0]], y=[pos[1]], z=[pos[2]],\n",
    "        mode='markers',\n",
    "        marker=dict(size=12, color=color, symbol='diamond'),\n",
    "        showlegend=False\n",
    "    ))\n",
    "\n",
    "    # frustum planes at near and far (no legend)\n",
    "    planes = []\n",
    "    for depth in (near_plane, far_plane):\n",
    "        w = depth * cam.image_size[0] / cam.f\n",
    "        h = depth * cam.image_size[1] / cam.f\n",
    "        corners_cam = np.array([\n",
    "            [-w/2, -h/2, -depth],\n",
    "            [ w/2, -h/2, -depth],\n",
    "            [ w/2,  h/2, -depth],\n",
    "            [-w/2,  h/2, -depth],\n",
    "        ])\n",
    "        plane_world = [(R_inv @ c.reshape(3,1) + cam.C).flatten() for c in corners_cam]\n",
    "        planes.append(np.array(plane_world))\n",
    "\n",
    "    # edges\n",
    "    for i in range(4):\n",
    "        # near→far\n",
    "        fig.add_trace(go.Scatter3d(\n",
    "            x=[planes[0][i,0], planes[1][i,0]],\n",
    "            y=[planes[0][i,1], planes[1][i,1]],\n",
    "            z=[planes[0][i,2], planes[1][i,2]],\n",
    "            mode='lines',\n",
    "            line=dict(color=color, width=2, dash='dot'),\n",
    "            showlegend=False\n",
    "        ))\n",
    "        # center→near\n",
    "        fig.add_trace(go.Scatter3d(\n",
    "            x=[pos[0], planes[0][i,0]],\n",
    "            y=[pos[1], planes[0][i,1]],\n",
    "            z=[pos[2], planes[0][i,2]],\n",
    "            mode='lines',\n",
    "            line=dict(color=color, width=2),\n",
    "            showlegend=False\n",
    "        ))\n",
    "\n",
    "    # outlines of near & far\n",
    "    for plane in planes:\n",
    "        loop = np.vstack([plane, plane[0]])\n",
    "        fig.add_trace(go.Scatter3d(\n",
    "            x=loop[:,0],\n",
    "            y=loop[:,1],\n",
    "            z=loop[:,2],\n",
    "            mode='lines',\n",
    "            line=dict(color=color, width=2),\n",
    "            showlegend=False\n",
    "        ))\n",
    "\n",
    "    # optical axis → “view direction”\n",
    "    mid = (near_plane + far_plane) / 2\n",
    "    end = (R_inv @ np.array([0, 0, -mid]).reshape(3,1) + cam.C).flatten()\n",
    "    fig.add_trace(go.Scatter3d(\n",
    "        x=[pos[0], end[0]],\n",
    "        y=[pos[1], end[1]],\n",
    "        z=[pos[2], end[2]],\n",
    "        mode='lines',\n",
    "        line=dict(color=color, width=4),\n",
    "        name=f\"{cam_name} view direction\",\n",
    "        showlegend=True\n",
    "    ))\n",
    "\n",
    "# draw cameras\n",
    "colors = ['red', 'blue']\n",
    "for i, cam in enumerate(cameras):\n",
    "    draw_camera_frustum(\n",
    "        fig, cam, colors[i], f\"Camera {i+1}\",\n",
    "        near_plane=5, far_plane=20\n",
    "    )\n",
    "\n",
    "scene.show_scene(fig)\n",
    "fig.update_layout(title='Tennis Ball Tracking: Camera Setup with View Frustum')\n",
    "fig.show()\n"
   ]
  },
  {
   "cell_type": "code",
   "execution_count": 58,
   "id": "04828d9f",
   "metadata": {},
   "outputs": [
    {
     "name": "stdout",
     "output_type": "stream",
     "text": [
      "\n",
      "Generating camera views...\n"
     ]
    },
    {
     "data": {
      "image/png": "[encoded data removed]",
      "text/plain": [
       "<Figure size 1200x800 with 1 Axes>"
      ]
     },
     "metadata": {},
     "output_type": "display_data"
    },
    {
     "data": {
      "image/png": "[encoded data removed]",
      "text/plain": [
       "<Figure size 1200x800 with 1 Axes>"
      ]
     },
     "metadata": {},
     "output_type": "display_data"
    },
    {
     "name": "stdout",
     "output_type": "stream",
     "text": [
      "Camera views generated!\n"
     ]
    }
   ],
   "source": [
    "# Generate camera views\n",
    "print(\"\\nGenerating camera views...\")\n",
    "\n",
    "for i, (cam, meas) in enumerate(zip(cameras, measurements)):\n",
    "    fig, ax = plt.subplots(figsize=(12, 8))\n",
    "    \n",
    "    # Set up image coordinates\n",
    "    ax.set_xlim(0, cam.image_size[0])\n",
    "    ax.set_ylim(cam.image_size[1], 0)  # Inverted y-axis for image coordinates\n",
    "    ax.set_facecolor('darkgreen')\n",
    "    \n",
    "    # Add court reference lines\n",
    "    ax.axhline(y=cam.image_size[1]//2, color='white', linewidth=2, alpha=0.4)\n",
    "    ax.axvline(x=cam.image_size[0]//2, color='white', linewidth=2, alpha=0.4)\n",
    "    \n",
    "    # Plot trajectory points that are visible\n",
    "    visible_pixels = []\n",
    "    visible_indices = []\n",
    "    \n",
    "    for j, point in enumerate(x):\n",
    "        world_coords = point[:3] if len(point) > 3 else point\n",
    "        pixel, visible = cam.g(world_coords)\n",
    "        if visible:\n",
    "            visible_pixels.append(pixel)\n",
    "            visible_indices.append(j)\n",
    "    \n",
    "    if visible_pixels:\n",
    "        visible_pixels = np.array(visible_pixels)\n",
    "        \n",
    "        # Plot trajectory path\n",
    "        ax.plot(visible_pixels[:, 0], visible_pixels[:, 1], \n",
    "               'yellow', linewidth=3, alpha=0.7, label='Ball trajectory')\n",
    "        \n",
    "        # Mark key points: start and end of visible trajectory\n",
    "        ax.scatter(visible_pixels[0, 0], visible_pixels[0, 1], \n",
    "                  c='lime', s=150, marker='^', edgecolors='black', linewidth=2, \n",
    "                  label='Start', zorder=10)\n",
    "        \n",
    "        if len(visible_pixels) > 1:\n",
    "            ax.scatter(visible_pixels[-1, 0], visible_pixels[-1, 1], \n",
    "                      c='red', s=150, marker='v', edgecolors='black', linewidth=2,\n",
    "                      label='End', zorder=10)\n",
    "    \n",
    "    # Mark bounce points if visible\n",
    "    for bounce_idx, bounce_point in enumerate(model.x_impact):\n",
    "        bounce_pixel, bounce_visible = cam.g(bounce_point[:3])\n",
    "        if bounce_visible:\n",
    "            ax.scatter(bounce_pixel[0], bounce_pixel[1], \n",
    "                      c='orange', s=200, marker='X', edgecolors='black', linewidth=2,\n",
    "                      label=f'Bounce {bounce_idx+1}', zorder=10)\n",
    "    \n",
    "    # Add title and labels\n",
    "    ax.set_title(f'Camera {i+1} View - {coverage_stats[i]:.1f}% Coverage', fontsize=14, fontweight='bold')\n",
    "    ax.set_xlabel('Pixel U', fontsize=12)\n",
    "    ax.set_ylabel('Pixel V', fontsize=12)\n",
    "    ax.grid(True, alpha=0.3)\n",
    "    \n",
    "    # Add legend and coverage info\n",
    "    ax.legend(loc='upper right', framealpha=0.9)\n",
    "    coverage_text = f'Visible: {int(coverage_stats[i]*len(x)/100)}/{len(x)} points'\n",
    "    ax.text(0.02, 0.98, coverage_text, transform=ax.transAxes, \n",
    "           bbox=dict(boxstyle='round', facecolor='white', alpha=0.8),\n",
    "           verticalalignment='top', fontsize=10)\n",
    "    \n",
    "    plt.tight_layout()\n",
    "    plt.show()\n",
    "\n",
    "print(\"Camera views generated!\")"
   ]
  },
  {
   "cell_type": "code",
   "execution_count": 59,
   "id": "7facde55",
   "metadata": {},
   "outputs": [
    {
     "name": "stdout",
     "output_type": "stream",
     "text": [
      "EKF Measurement Statistics:\n",
      "Camera 1: 28/28 measurements available (100.0%)\n",
      "Camera 2: 28/28 measurements available (100.0%)\n"
     ]
    }
   ],
   "source": [
    "# Function to extract measurements for EKF\n",
    "def get_ekf_measurements(cameras, trajectory, noise_std=1.0):\n",
    "    \"\"\"\n",
    "    Generate camera measurements with noise for use in Extended Kalman Filter.\n",
    "    \n",
    "    Args:\n",
    "        cameras: List of PinholeCamera objects\n",
    "        trajectory: Nx3 array of trajectory positions\n",
    "        noise_std: Standard deviation of measurement noise in pixels\n",
    "        \n",
    "    Returns:\n",
    "        measurements: List of measurement arrays per camera\n",
    "        visibilities: List of boolean arrays indicating visible points\n",
    "    \"\"\"\n",
    "    all_measurements = []\n",
    "    all_visibilities = []\n",
    "    \n",
    "    for cam in cameras:\n",
    "        camera_measurements = []\n",
    "        camera_visibilities = []\n",
    "        \n",
    "        for point in trajectory:\n",
    "            # Extract position coordinates if needed\n",
    "            world_coords = point[:3] if len(point) > 3 else point\n",
    "            pixel, visible = cam.g(world_coords)\n",
    "            \n",
    "            if visible:\n",
    "                # Add Gaussian noise to measurements\n",
    "                noisy_pixel = pixel + np.random.normal(0, noise_std, size=2)\n",
    "                camera_measurements.append(noisy_pixel)\n",
    "            else:\n",
    "                # For invisible points, add NaN values\n",
    "                camera_measurements.append(np.array([np.nan, np.nan]))\n",
    "            \n",
    "            camera_visibilities.append(visible)\n",
    "        \n",
    "        all_measurements.append(np.array(camera_measurements))\n",
    "        all_visibilities.append(np.array(camera_visibilities))\n",
    "    \n",
    "    return all_measurements, all_visibilities\n",
    "\n",
    "# Example usage\n",
    "noise_std = 1.5  # 1.5 pixel standard deviation noise\n",
    "ekf_measurements, ekf_visibilities = get_ekf_measurements(cameras, x, noise_std)\n",
    "\n",
    "# Print statistics about EKF measurements\n",
    "print(\"EKF Measurement Statistics:\")\n",
    "for i, (meas, vis) in enumerate(zip(ekf_measurements, ekf_visibilities)):\n",
    "    visible_count = np.sum(vis)\n",
    "    print(f\"Camera {i+1}: {visible_count}/{len(vis)} measurements available ({100*visible_count/len(vis):.1f}%)\")"
   ]
  }
 ],
 "metadata": {
  "language_info": {
   "name": "python"
  }
 },
 "nbformat": 4,
 "nbformat_minor": 5
}
